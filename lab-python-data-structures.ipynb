{
 "cells": [
  {
   "cell_type": "markdown",
   "metadata": {
    "tags": []
   },
   "source": [
    "# Lab | Data Structures "
   ]
  },
  {
   "cell_type": "markdown",
   "metadata": {},
   "source": [
    "## Exercise: Managing Customer Orders\n",
    "\n",
    "As part of a business venture, you are starting an online store that sells various products. To ensure smooth operations, you need to develop a program that manages customer orders and inventory.\n",
    "\n",
    "Follow the steps below to complete the exercise:\n",
    "\n",
    "1. Define a list called `products` that contains the following items: \"t-shirt\", \"mug\", \"hat\", \"book\", \"keychain\".\n",
    "\n",
    "2. Create an empty dictionary called `inventory`.\n",
    "\n",
    "3. Ask the user to input the quantity of each product available in the inventory. Use the product names from the `products` list as keys in the `inventory` dictionary and assign the respective quantities as values.\n",
    "\n",
    "4. Create an empty set called `customer_orders`.\n",
    "\n",
    "5. Ask the user to input the name of three products that a customer wants to order (from those in the products list, meaning three products out of \"t-shirt\", \"mug\", \"hat\", \"book\" or \"keychain\". Add each product name to the `customer_orders` set.\n",
    "\n",
    "6. Print the products in the `customer_orders` set.\n",
    "\n",
    "7. Calculate the following order statistics:\n",
    "   - Total Products Ordered: The total number of products in the `customer_orders` set.\n",
    "   - Percentage of Products Ordered: The percentage of products ordered compared to the total available products.\n",
    "   \n",
    "   Store these statistics in a tuple called `order_status`.\n",
    "\n",
    "8. Print the order statistics using the following format:\n",
    "   ```\n",
    "   Order Statistics:\n",
    "   Total Products Ordered: <total_products_ordered>\n",
    "   Percentage of Products Ordered: <percentage_ordered>% \n",
    "   ```\n",
    "\n",
    "9. Update the inventory by subtracting 1 from the quantity of each product. Modify the `inventory` dictionary accordingly.\n",
    "\n",
    "10. Print the updated inventory, displaying the quantity of each product on separate lines.\n",
    "\n",
    "Solve the exercise by implementing the steps using the Python concepts of lists, dictionaries, sets, and basic input/output operations. "
   ]
  },
  {
   "cell_type": "code",
   "execution_count": 1,
   "metadata": {},
   "outputs": [
    {
     "name": "stdout",
     "output_type": "stream",
     "text": [
      "{'t-shirt': 5, 'mug': 4, 'hat': 8, 'book': 7, 'keychain': 2}\n"
     ]
    }
   ],
   "source": [
    "#1\n",
    "products = [\"t-shirt\", \"mug\", \"hat\",\"book\",\"keychain\"]\n",
    "#2\n",
    "inventory = {}\n",
    "#3\n",
    "for product in products: \n",
    "    quantity = int(input(f\"enter the quantity of products {product} \"))\n",
    "    inventory[product] = quantity\n",
    "print(inventory)\n",
    "    \n"
   ]
  },
  {
   "cell_type": "code",
   "execution_count": null,
   "metadata": {},
   "outputs": [],
   "source": []
  },
  {
   "cell_type": "code",
   "execution_count": 5,
   "metadata": {},
   "outputs": [
    {
     "name": "stdout",
     "output_type": "stream",
     "text": [
      "{'t-shirt': 5, 'mug': 4, 'hat': 8, 'book': 7, 'keychain': 2}\n"
     ]
    }
   ],
   "source": [
    "print(inventory)"
   ]
  },
  {
   "cell_type": "code",
   "execution_count": null,
   "metadata": {},
   "outputs": [
    {
     "name": "stdout",
     "output_type": "stream",
     "text": [
      "Current orders: {('mug', '4')}\n",
      "Current orders: {('mug', '4'), ('hat', '1')}\n",
      "Current orders: {('mug', '4'), ('book', '2'), ('hat', '1')}\n",
      "Your final orders are: {('mug', '4'), ('book', '2'), ('hat', '1')}\n"
     ]
    },
    {
     "data": {
      "text/plain": [
       "set"
      ]
     },
     "execution_count": 1,
     "metadata": {},
     "output_type": "execute_result"
    }
   ],
   "source": [
    "#4  \n",
    "customer_orders = set()\n",
    "#5 \n",
    "\n",
    "while True:\n",
    "    product = input(\"Enter the product you want to order or type 'done' to finish: \")\n",
    "    if product.lower() == \"done\":\n",
    "        break\n",
    "    \n",
    "    quantity = input(\"Enter the quantity of the product you want to order: \")\n",
    "  \n",
    "\n",
    "    customer_orders.add((product, quantity))\n",
    "    print(\"Current orders:\", customer_orders)\n",
    "\n",
    "#6\n",
    "\n",
    "print(\"Your final orders are:\", customer_orders)\n",
    "type(customer_orders)\n"
   ]
  },
  {
   "cell_type": "code",
   "execution_count": 37,
   "metadata": {},
   "outputs": [],
   "source": [
    "del sum"
   ]
  },
  {
   "cell_type": "code",
   "execution_count": 3,
   "metadata": {},
   "outputs": [
    {
     "name": "stdout",
     "output_type": "stream",
     "text": [
      "Total quantity of all items: 7\n"
     ]
    }
   ],
   "source": [
    "#7\n",
    "customer_orders = set()\n",
    "customer_orders.add((\"mug\", 4))\n",
    "customer_orders.add((\"hat\", 1))\n",
    "customer_orders.add((\"book\", 2))\n",
    "\n",
    "\n",
    "total_quantity = sum(quantity for item, quantity in customer_orders)\n",
    "\n",
    "print(f\"Total quantity of all items: {total_quantity}\")"
   ]
  },
  {
   "cell_type": "code",
   "execution_count": 46,
   "metadata": {},
   "outputs": [
    {
     "name": "stdout",
     "output_type": "stream",
     "text": [
      "Total quantity of ordered products: 7\n",
      "Total quantity of available products: 33\n",
      "Percentage of products ordered: 21.21%\n"
     ]
    }
   ],
   "source": [
    "available_products = {\"t-shirt\": 10, \"mug\": 5, \"hat\": 3, \"book\": 7, \"keychain\": 8}\n",
    "\n",
    "total_inventory = sum(available_products.values())\n",
    "\n",
    "percentage_ordered = (total_quantity / total_inventory) * 100\n",
    "\n",
    "print(f\"Total quantity of ordered products: {total_quantity}\")\n",
    "print(f\"Total quantity of available products: {total_inventory}\")\n",
    "print(f\"Percentage of products ordered: {percentage_ordered:.2f}%\")"
   ]
  },
  {
   "cell_type": "code",
   "execution_count": 47,
   "metadata": {},
   "outputs": [
    {
     "name": "stdout",
     "output_type": "stream",
     "text": [
      "Total quantity of ordered products: 7\n",
      "Total quantity of available products: 33\n",
      "Percentage of products ordered: 21.21%\n"
     ]
    }
   ],
   "source": [
    "#8\n",
    "order_status = (total_quantity, total_inventory, percentage_ordered)\n",
    "\n",
    "\n",
    "print(f\"Total quantity of ordered products: {order_status[0]}\")\n",
    "print(f\"Total quantity of available products: {order_status[1]}\")\n",
    "print(f\"Percentage of products ordered: {order_status[2]:.2f}%\")"
   ]
  },
  {
   "cell_type": "code",
   "execution_count": 49,
   "metadata": {},
   "outputs": [
    {
     "name": "stdout",
     "output_type": "stream",
     "text": [
      "(7, 33, 21.21212121212121)\n"
     ]
    }
   ],
   "source": [
    "print(order_status)"
   ]
  },
  {
   "cell_type": "code",
   "execution_count": 50,
   "metadata": {},
   "outputs": [
    {
     "name": "stdout",
     "output_type": "stream",
     "text": [
      "Order Statistics:\n",
      "Total products ordered: 7\n",
      "Percentage of products ordered: 21.21%\n"
     ]
    }
   ],
   "source": [
    "order_statistics = (total_quantity, percentage_ordered)\n",
    "\n",
    "\n",
    "print(f\"Order Statistics:\")\n",
    "print(f\"Total products ordered: {order_statistics[0]}\")\n",
    "print(f\"Percentage of products ordered: {order_statistics[1]:.2f}%\")"
   ]
  },
  {
   "cell_type": "code",
   "execution_count": 51,
   "metadata": {},
   "outputs": [
    {
     "name": "stdout",
     "output_type": "stream",
     "text": [
      "Updated Inventory:\n",
      "{'t-shirt': 9, 'mug': 4, 'hat': 2, 'book': 6, 'keychain': 7}\n"
     ]
    }
   ],
   "source": [
    "#9\n",
    "products = {\"t-shirt\": 10, \"mug\": 5, \"hat\": 3, \"book\": 7, \"keychain\": 8}\n",
    "\n",
    "for product in products:\n",
    "    if products[product] > 0: \n",
    "        products[product] -= 1\n",
    "\n",
    "print(\"Updated Inventory:\")\n",
    "print(products)"
   ]
  },
  {
   "cell_type": "code",
   "execution_count": 59,
   "metadata": {},
   "outputs": [
    {
     "name": "stdout",
     "output_type": "stream",
     "text": [
      "Updated Inventory:\n",
      "t-shirt: 5\n",
      "mug: 4\n",
      "hat: 8\n",
      "book: 7\n",
      "keychain: 2\n"
     ]
    }
   ],
   "source": [
    "#10\n",
    "print(\"Updated Inventory:\")\n",
    "for product, quantity in inventory.items():\n",
    "    print(f\"{product}: {quantity}\")"
   ]
  },
  {
   "cell_type": "code",
   "execution_count": null,
   "metadata": {},
   "outputs": [],
   "source": []
  }
 ],
 "metadata": {
  "kernelspec": {
   "display_name": "base",
   "language": "python",
   "name": "python3"
  },
  "language_info": {
   "codemirror_mode": {
    "name": "ipython",
    "version": 3
   },
   "file_extension": ".py",
   "mimetype": "text/x-python",
   "name": "python",
   "nbconvert_exporter": "python",
   "pygments_lexer": "ipython3",
   "version": "3.12.7"
  }
 },
 "nbformat": 4,
 "nbformat_minor": 4
}
